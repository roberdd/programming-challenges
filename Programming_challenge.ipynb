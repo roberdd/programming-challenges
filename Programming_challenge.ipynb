{
 "cells": [
  {
   "cell_type": "markdown",
   "metadata": {},
   "source": [
    "# Programming challenge"
   ]
  },
  {
   "cell_type": "markdown",
   "metadata": {},
   "source": [
    "## Fizz Buzz\n",
    "- Write a program that print out in console the numbers from 1 to 100, replacing by \"fiz\", \"buzz\" o \"fizzuzz\" as it follows.\n",
    "- - Multiple of 3 -> \"fizz\"\n",
    "- - Multiple of 5 -> \"buzz\"\n",
    "- - Multiple of 3 and 5 -> \"fizzbuzz\""
   ]
  },
  {
   "cell_type": "code",
   "execution_count": 72,
   "metadata": {},
   "outputs": [
    {
     "name": "stdout",
     "output_type": "stream",
     "text": [
      "fizzbuzz 1 2 fizz 4 buzz fizz 7 8 fizz buzz 11 fizz 13 14 fizzbuzz 16 17 fizz 19 buzz fizz 22 23 fizz buzz 26 fizz 28 29 fizzbuzz 31 32 fizz 34 buzz fizz 37 38 fizz buzz 41 fizz 43 44 fizzbuzz 46 47 fizz 49 buzz fizz 52 53 fizz buzz 56 fizz 58 59 fizzbuzz 61 62 fizz 64 buzz fizz 67 68 fizz buzz 71 fizz 73 74 fizzbuzz 76 77 fizz 79 buzz fizz 82 83 fizz buzz 86 fizz 88 89 fizzbuzz 91 92 fizz 94 buzz fizz 97 98 fizz buzz "
     ]
    }
   ],
   "source": [
    "for i in range(101):\n",
    "    divthree = i%3 == 0\n",
    "    divfive = i%5 == 0\n",
    "    if divthree & divfive:\n",
    "        print(\"fizzbuzz\", end=\" \")\n",
    "    elif divthree:\n",
    "        print(\"fizz\", end=\" \")\n",
    "    elif divfive:\n",
    "        print(\"buzz\", end=\" \")\n",
    "    else:\n",
    "        print(i, end=\" \")\n",
    "       "
   ]
  },
  {
   "cell_type": "markdown",
   "metadata": {},
   "source": [
    "## Anagram\n",
    "- Write a function that receives two words (\"strings\") and returns True or False (Boolean)\n",
    "- It is not necessary to corroborate that both words exists.\n",
    "- Two words exactly the same aren't anagrams"
   ]
  },
  {
   "cell_type": "code",
   "execution_count": 53,
   "metadata": {},
   "outputs": [
    {
     "name": "stdout",
     "output_type": "stream",
     "text": [
      "True\n",
      "False\n"
     ]
    }
   ],
   "source": [
    "def anagram(w1, w2):\n",
    "    w1 = w1.lower()\n",
    "    w2 = w2.lower()\n",
    "    w1l = list(w1)\n",
    "    w2l = list(w2)\n",
    "    w1l.sort()\n",
    "    w2l.sort()\n",
    "    ow1 = \"\".join(w1l)\n",
    "    ow2 = \"\".join(w2l)\n",
    "    return ow1 == ow2\n",
    "w01=\"roma\"\n",
    "w02=\"amor\"\n",
    "print(anagram(w01, w02))\n",
    "w01=\"jirafa\"\n",
    "w02=\"moneda\"\n",
    "print(anagram(w01, w02))"
   ]
  },
  {
   "cell_type": "markdown",
   "metadata": {},
   "source": [
    "## Fibonacci Sequence\n",
    "- Write a program that prints the first 50 numbers of the Fibonacci Sequence\n",
    "- It consists of the sequence of numbers as it follows:\n",
    "- - 0, 1, 1, 2, 3, 5, 8, 13..."
   ]
  },
  {
   "cell_type": "code",
   "execution_count": 69,
   "metadata": {},
   "outputs": [
    {
     "name": "stdout",
     "output_type": "stream",
     "text": [
      "0 1 1 2 3 5 8 13 21 34 55 89 144 233 377 610 987 1597 2584 4181 6765 10946 17711 28657 46368 75025 121393 196418 317811 514229 832040 1346269 2178309 3524578 5702887 9227465 14930352 24157817 39088169 63245986 102334155 165580141 267914296 433494437 701408733 1134903170 1836311903 2971215073 4807526976 7778742049 12586269025 "
     ]
    }
   ],
   "source": [
    "val1 = 0\n",
    "val2 = 1\n",
    "for i in range(51):\n",
    "    print(val1, end=\" \")\n",
    "    valfib = (val1 + val2)\n",
    "    val1 = val2\n",
    "    val2 = valfib"
   ]
  },
  {
   "cell_type": "markdown",
   "metadata": {},
   "source": [
    "## Prime numbers\n",
    "- Print the first 100 prime numbers"
   ]
  },
  {
   "cell_type": "code",
   "execution_count": 67,
   "metadata": {},
   "outputs": [
    {
     "name": "stdout",
     "output_type": "stream",
     "text": [
      "2 3 5 7 11 13 17 19 23 29 31 37 41 43 47 53 59 61 67 71 73 79 83 89 97 "
     ]
    }
   ],
   "source": [
    "for i in range(2, 101):\n",
    "    primes = True\n",
    "    for x in range(2,i):\n",
    "        if i == x:\n",
    "           break\n",
    "        elif i % x == 0:\n",
    "           primes = False\n",
    "        else:\n",
    "           continue\n",
    "    if primes == True:\n",
    "        print(i, end=\" \")"
   ]
  },
  {
   "cell_type": "code",
   "execution_count": null,
   "metadata": {},
   "outputs": [],
   "source": []
  }
 ],
 "metadata": {
  "kernelspec": {
   "display_name": "Python 3.11.0 64-bit",
   "language": "python",
   "name": "python3"
  },
  "language_info": {
   "codemirror_mode": {
    "name": "ipython",
    "version": 3
   },
   "file_extension": ".py",
   "mimetype": "text/x-python",
   "name": "python",
   "nbconvert_exporter": "python",
   "pygments_lexer": "ipython3",
   "version": "3.11.0"
  },
  "orig_nbformat": 4,
  "vscode": {
   "interpreter": {
    "hash": "c261aea317cc0286b3b3261fbba9abdec21eaa57589985bb7a274bf54d6cc0a7"
   }
  }
 },
 "nbformat": 4,
 "nbformat_minor": 2
}
